{
  "nbformat": 4,
  "nbformat_minor": 0,
  "metadata": {
    "colab": {
      "private_outputs": true,
      "provenance": [],
      "authorship_tag": "ABX9TyPmdlOCQ5yOR4SirPNj0aYF",
      "include_colab_link": true
    },
    "kernelspec": {
      "name": "python3",
      "display_name": "Python 3"
    },
    "language_info": {
      "name": "python"
    }
  },
  "cells": [
    {
      "cell_type": "markdown",
      "metadata": {
        "id": "view-in-github",
        "colab_type": "text"
      },
      "source": [
        "<a href=\"https://colab.research.google.com/github/WellcomePeujio/Planificacion-para-la-Compra-de-una-Casa-Finanzas-Personales-/blob/main/Planificaci%C3%B3n_para_la_Compra_de_una_Casa.ipynb\" target=\"_parent\"><img src=\"https://colab.research.google.com/assets/colab-badge.svg\" alt=\"Open In Colab\"/></a>"
      ]
    },
    {
      "cell_type": "markdown",
      "source": [
        "# Planificación para la Compra de una Casa (Finanzas Personales)\n",
        "\n",
        "**Problema**: Una persona planea comprar una casa en 8 años con un valor estimado de **200,000 dólares**. Actualmente tiene $50,000 ahorrados y planea hacer depósitos anuales en una cuenta con una tasa de interés del 5%.\n",
        "\n",
        "**Preguntas**:\n",
        "\n",
        "1. ¿Cuánto debe depositar anualmente para alcanzar su objetivo?\n",
        "\n",
        "2. Si la tasa de interés sube al 6%, ¿cómo cambiaría el monto del depósito anual?\n"
      ],
      "metadata": {
        "id": "rnK0BA6y9TDH"
      }
    },
    {
      "cell_type": "markdown",
      "source": [
        "# Resolución de la Planificación para la Compra de una Casa\n",
        "\n",
        "## Paso 1: Determinar el Monto que Necesita Ahorrar\n",
        "\n",
        "La persona planea alcanzar un valor futuro de **200,000 dólares** en 8 años. Actualmente tiene $50,000, por lo que necesita acumular un monto adicional de:\n",
        "\n",
        "$$\n",
        "200,000 - 50,000 = 150,000\n",
        "$$\n",
        "\n",
        "Entonces, el objetivo de ahorro adicional es de **$150,000**.\n",
        "\n",
        "## Paso 2: Cálculo del Depósito Anual con una Tasa del 5%\n",
        "\n",
        "Para calcular el depósito anual necesario, utilizamos la fórmula del valor futuro de una anualidad ordinaria, que es:\n",
        "\n",
        "$$\n",
        "FV = P \\cdot \\frac{(1 + r)^n - 1}{r}\n",
        "$$\n",
        "\n",
        "donde:\n",
        "- $FV$ es el valor futuro objetivo ($150,000$),\n",
        "- $P$ es el depósito anual (lo que queremos encontrar),\n",
        "- $r$ es la tasa de interés anual ($5\\% = 0.05$),\n",
        "- $n$ es el número de años ($8$).\n",
        "\n",
        "Reorganizamos para despejar $P$:\n",
        "\n",
        "$$\n",
        "P = \\frac{FV \\cdot r}{(1 + r)^n - 1}\n",
        "$$\n",
        "\n",
        "Sustituyendo los valores:\n",
        "\n",
        "$$\n",
        "P = \\frac{150,000 \\cdot 0.05}{(1 + 0.05)^8 - 1}\n",
        "$$\n",
        "\n",
        "Calculamos paso a paso:\n",
        "\n",
        "1. Sumamos $1 + 0.05 = 1.05$.\n",
        "2. Elevamos a la potencia de 8: $1.05^8 \\approx 1.4775$.\n",
        "3. Restamos 1: $1.4775 - 1 = 0.4775$.\n",
        "4. Multiplicamos el numerador: $150,000 \\cdot 0.05 = 7,500$.\n",
        "5. Dividimos:\n",
        "\n",
        "   $$\n",
        "   P = \\frac{7,500}{0.4775} \\approx 15,708.19\n",
        "   $$\n",
        "\n",
        "Por lo tanto, el depósito anual necesario con una tasa de interés del 5% es aproximadamente **$15,708.19**.\n",
        "\n",
        "## Paso 3: Cálculo del Depósito Anual con una Tasa del 6%\n",
        "\n",
        "Si la tasa de interés sube al 6% $(r = 0.06)$, recalculamos $P$:\n",
        "\n",
        "$$\n",
        "P = \\frac{150,000 \\cdot 0.06}{(1 + 0.06)^8 - 1}\n",
        "$$\n",
        "\n",
        "Calculamos paso a paso:\n",
        "\n",
        "1. Sumamos $1 + 0.06 = 1.06$.\n",
        "2. Elevamos a la potencia de 8: $1.06^8 \\approx 1.5938$.\n",
        "3. Restamos 1: $1.5938 - 1 = 0.5938$.\n",
        "4. Multiplicamos el numerador: $150,000 \\cdot 0.06 = 9,000$.\n",
        "5. Dividimos:\n",
        "\n",
        "   $$\n",
        "   P = \\frac{9,000}{0.5938} \\approx 15,154.62\n",
        "   $$\n",
        "\n",
        "Con una tasa de interés del 6%, el depósito anual necesario es aproximadamente **$15,154.62**.\n",
        "\n",
        "## Resultado Final\n",
        "\n",
        "- Con una tasa de interés del **5%**, el depósito anual necesario es **$15,708.19**.\n",
        "\n",
        "- Si la tasa de interés sube al **6%**, el depósito anual necesario baja a **$15,154.62**.\n"
      ],
      "metadata": {
        "id": "oQ5-iyI79h1F"
      }
    },
    {
      "cell_type": "code",
      "source": [
        "import numpy as np\n",
        "import matplotlib.pyplot as plt\n",
        "\n",
        "# Parámetros del problema\n",
        "valor_futuro = 150000  # Cantidad adicional que necesita ahorrar\n",
        "años = 8  # Periodo de ahorro\n",
        "tasa_5 = 0.05  # Tasa de interés del 5%\n",
        "tasa_6 = 0.06  # Tasa de interés del 6%\n",
        "\n",
        "# Función para calcular el depósito anual requerido\n",
        "def calcular_deposito_anual(FV, r, n):\n",
        "    return (FV * r) / ((1 + r) ** n - 1)\n",
        "\n",
        "# Cálculo de los depósitos anuales necesarios para ambas tasas\n",
        "deposito_anual_5 = calcular_deposito_anual(valor_futuro, tasa_5, años)\n",
        "deposito_anual_6 = calcular_deposito_anual(valor_futuro, tasa_6, años)\n",
        "\n",
        "# Generar datos de evolución del ahorro con ambas tasas\n",
        "periodos = np.arange(1, años + 1)\n",
        "ahorro_5 = np.array([deposito_anual_5 * ((1 + tasa_5) ** i - 1) / tasa_5 for i in periodos])\n",
        "ahorro_6 = np.array([deposito_anual_6 * ((1 + tasa_6) ** i - 1) / tasa_6 for i in periodos])\n",
        "\n",
        "# Gráfica de la evolución del ahorro\n",
        "plt.figure(figsize=(10, 6))\n",
        "plt.plot(periodos, ahorro_5, label=\"Tasa del 5%\", color=\"blue\", marker=\"o\")\n",
        "plt.plot(periodos, ahorro_6, label=\"Tasa del 6%\", color=\"green\", marker=\"o\")\n",
        "plt.axhline(y=valor_futuro, color=\"red\", linestyle=\"--\", label=\"Objetivo de $150,000\")\n",
        "plt.xlabel(\"Años\")\n",
        "plt.ylabel(\"Ahorro Acumulado ($)\")\n",
        "plt.title(\"Evolución del Ahorro Anual con Diferentes Tasas de Interés\")\n",
        "plt.legend()\n",
        "plt.grid(True)\n",
        "plt.show()\n"
      ],
      "metadata": {
        "id": "6pO56quN9wXI"
      },
      "execution_count": null,
      "outputs": []
    }
  ]
}